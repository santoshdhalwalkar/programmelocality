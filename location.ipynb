{
 "cells": [
  {
   "cell_type": "markdown",
   "metadata": {},
   "source": [
    "### import the liabaries"
   ]
  },
  {
   "cell_type": "code",
   "execution_count": 29,
   "metadata": {},
   "outputs": [],
   "source": [
    "\n",
    "\n",
    "import joblib\n",
    "import seaborn as sns\n",
    "import matplotlib.pyplot as plt\n",
    "import pandas as pd\n",
    "import numpy as np\n",
    "import sklearn\n",
    "import warnings\n",
    "warnings.filterwarnings(\"ignore\")\n",
    "%matplotlib inline\n",
    "from datetime import datetime\n",
    "from sklearn.model_selection import train_test_split\n",
    "from sklearn.ensemble import RandomForestClassifier\n",
    "from sklearn.preprocessing import LabelEncoder\n"
   ]
  },
  {
   "cell_type": "markdown",
   "metadata": {},
   "source": [
    "#### Load the data"
   ]
  },
  {
   "cell_type": "code",
   "execution_count": 2,
   "metadata": {},
   "outputs": [],
   "source": [
    "df = pd.read_csv('D:\\\\client\\\\programmelocality\\\\Program_Locality.csv', encoding='ISO-8859-1')"
   ]
  },
  {
   "cell_type": "code",
   "execution_count": 3,
   "metadata": {},
   "outputs": [
    {
     "name": "stdout",
     "output_type": "stream",
     "text": [
      "<class 'pandas.core.frame.DataFrame'>\n"
     ]
    }
   ],
   "source": [
    "print(type(df))"
   ]
  },
  {
   "cell_type": "code",
   "execution_count": 4,
   "metadata": {},
   "outputs": [
    {
     "data": {
      "text/html": [
       "<div>\n",
       "<style scoped>\n",
       "    .dataframe tbody tr th:only-of-type {\n",
       "        vertical-align: middle;\n",
       "    }\n",
       "\n",
       "    .dataframe tbody tr th {\n",
       "        vertical-align: top;\n",
       "    }\n",
       "\n",
       "    .dataframe thead th {\n",
       "        text-align: right;\n",
       "    }\n",
       "</style>\n",
       "<table border=\"1\" class=\"dataframe\">\n",
       "  <thead>\n",
       "    <tr style=\"text-align: right;\">\n",
       "      <th></th>\n",
       "      <th>ProgramID</th>\n",
       "      <th>ProgramCode</th>\n",
       "      <th>LocalityID</th>\n",
       "      <th>LocalityName</th>\n",
       "      <th>StartDate</th>\n",
       "      <th>EndDate</th>\n",
       "      <th>PracticeID</th>\n",
       "      <th>PracticeCode</th>\n",
       "      <th>TinID</th>\n",
       "      <th>TaxID</th>\n",
       "      <th>StateID</th>\n",
       "      <th>StateCode</th>\n",
       "      <th>StateName</th>\n",
       "      <th>CountyID</th>\n",
       "      <th>CountyName</th>\n",
       "      <th>ZipCode</th>\n",
       "      <th>LocationName</th>\n",
       "    </tr>\n",
       "  </thead>\n",
       "  <tbody>\n",
       "    <tr>\n",
       "      <th>0</th>\n",
       "      <td>38.0</td>\n",
       "      <td>ADV</td>\n",
       "      <td>1900-06-06</td>\n",
       "      <td>ADV</td>\n",
       "      <td>2000-01-01</td>\n",
       "      <td>2024-12-31</td>\n",
       "      <td>1.0</td>\n",
       "      <td>ADV</td>\n",
       "      <td>25.0</td>\n",
       "      <td>52-2055746</td>\n",
       "      <td>27.0</td>\n",
       "      <td>MD</td>\n",
       "      <td>Maryland</td>\n",
       "      <td>75.0</td>\n",
       "      <td>Anne Arundel County</td>\n",
       "      <td>21061.0</td>\n",
       "      <td>Baltimore Washington Medical Center (ADV_23)</td>\n",
       "    </tr>\n",
       "    <tr>\n",
       "      <th>1</th>\n",
       "      <td>38.0</td>\n",
       "      <td>ADV</td>\n",
       "      <td>1900-06-06</td>\n",
       "      <td>ADV</td>\n",
       "      <td>2000-01-01</td>\n",
       "      <td>2024-12-31</td>\n",
       "      <td>1.0</td>\n",
       "      <td>ADV</td>\n",
       "      <td>25.0</td>\n",
       "      <td>52-2055746</td>\n",
       "      <td>27.0</td>\n",
       "      <td>MD</td>\n",
       "      <td>Maryland</td>\n",
       "      <td>75.0</td>\n",
       "      <td>Anne Arundel County</td>\n",
       "      <td>21061.0</td>\n",
       "      <td>Crain Towers (ADV_27)</td>\n",
       "    </tr>\n",
       "    <tr>\n",
       "      <th>2</th>\n",
       "      <td>38.0</td>\n",
       "      <td>ADV</td>\n",
       "      <td>1900-06-06</td>\n",
       "      <td>ADV</td>\n",
       "      <td>2000-01-01</td>\n",
       "      <td>2024-12-31</td>\n",
       "      <td>1.0</td>\n",
       "      <td>ADV</td>\n",
       "      <td>25.0</td>\n",
       "      <td>52-2055746</td>\n",
       "      <td>27.0</td>\n",
       "      <td>MD</td>\n",
       "      <td>Maryland</td>\n",
       "      <td>75.0</td>\n",
       "      <td>Anne Arundel County</td>\n",
       "      <td>21061.0</td>\n",
       "      <td>PET Center @ BWMC (ADV_40)</td>\n",
       "    </tr>\n",
       "    <tr>\n",
       "      <th>3</th>\n",
       "      <td>38.0</td>\n",
       "      <td>ADV</td>\n",
       "      <td>1900-06-06</td>\n",
       "      <td>ADV</td>\n",
       "      <td>2000-01-01</td>\n",
       "      <td>2024-12-31</td>\n",
       "      <td>1.0</td>\n",
       "      <td>ADV</td>\n",
       "      <td>25.0</td>\n",
       "      <td>52-2055746</td>\n",
       "      <td>27.0</td>\n",
       "      <td>MD</td>\n",
       "      <td>Maryland</td>\n",
       "      <td>75.0</td>\n",
       "      <td>Anne Arundel County</td>\n",
       "      <td>21061.0</td>\n",
       "      <td>Advanced Radiology Glen Burnie (ADV_12)</td>\n",
       "    </tr>\n",
       "    <tr>\n",
       "      <th>4</th>\n",
       "      <td>38.0</td>\n",
       "      <td>ADV</td>\n",
       "      <td>1900-06-06</td>\n",
       "      <td>ADV</td>\n",
       "      <td>2000-01-01</td>\n",
       "      <td>2024-12-31</td>\n",
       "      <td>1.0</td>\n",
       "      <td>ADV</td>\n",
       "      <td>25.0</td>\n",
       "      <td>52-2055746</td>\n",
       "      <td>27.0</td>\n",
       "      <td>MD</td>\n",
       "      <td>Maryland</td>\n",
       "      <td>75.0</td>\n",
       "      <td>Anne Arundel County</td>\n",
       "      <td>21061.0</td>\n",
       "      <td>Aeillo Center at BWMC (ADV_22)</td>\n",
       "    </tr>\n",
       "  </tbody>\n",
       "</table>\n",
       "</div>"
      ],
      "text/plain": [
       "   ProgramID ProgramCode  LocalityID LocalityName   StartDate     EndDate  \\\n",
       "0       38.0         ADV  1900-06-06          ADV  2000-01-01  2024-12-31   \n",
       "1       38.0         ADV  1900-06-06          ADV  2000-01-01  2024-12-31   \n",
       "2       38.0         ADV  1900-06-06          ADV  2000-01-01  2024-12-31   \n",
       "3       38.0         ADV  1900-06-06          ADV  2000-01-01  2024-12-31   \n",
       "4       38.0         ADV  1900-06-06          ADV  2000-01-01  2024-12-31   \n",
       "\n",
       "   PracticeID PracticeCode  TinID       TaxID  StateID StateCode StateName  \\\n",
       "0         1.0          ADV   25.0  52-2055746     27.0        MD  Maryland   \n",
       "1         1.0          ADV   25.0  52-2055746     27.0        MD  Maryland   \n",
       "2         1.0          ADV   25.0  52-2055746     27.0        MD  Maryland   \n",
       "3         1.0          ADV   25.0  52-2055746     27.0        MD  Maryland   \n",
       "4         1.0          ADV   25.0  52-2055746     27.0        MD  Maryland   \n",
       "\n",
       "   CountyID           CountyName  ZipCode  \\\n",
       "0      75.0  Anne Arundel County  21061.0   \n",
       "1      75.0  Anne Arundel County  21061.0   \n",
       "2      75.0  Anne Arundel County  21061.0   \n",
       "3      75.0  Anne Arundel County  21061.0   \n",
       "4      75.0  Anne Arundel County  21061.0   \n",
       "\n",
       "                                   LocationName  \n",
       "0  Baltimore Washington Medical Center (ADV_23)  \n",
       "1                         Crain Towers (ADV_27)  \n",
       "2                    PET Center @ BWMC (ADV_40)  \n",
       "3       Advanced Radiology Glen Burnie (ADV_12)  \n",
       "4                Aeillo Center at BWMC (ADV_22)  "
      ]
     },
     "execution_count": 4,
     "metadata": {},
     "output_type": "execute_result"
    }
   ],
   "source": [
    "df.head()"
   ]
  },
  {
   "cell_type": "code",
   "execution_count": 5,
   "metadata": {},
   "outputs": [
    {
     "data": {
      "text/plain": [
       "(5500, 17)"
      ]
     },
     "execution_count": 5,
     "metadata": {},
     "output_type": "execute_result"
    }
   ],
   "source": [
    "df.shape"
   ]
  },
  {
   "cell_type": "code",
   "execution_count": 6,
   "metadata": {},
   "outputs": [],
   "source": [
    "# Replace problematic characters\n",
    "df.replace({r'[^\\x00-\\x7F]+': ''}, regex=True, inplace=True)"
   ]
  },
  {
   "cell_type": "markdown",
   "metadata": {},
   "source": [
    "#### Dynamic EndDate Handling"
   ]
  },
  {
   "cell_type": "code",
   "execution_count": 30,
   "metadata": {},
   "outputs": [],
   "source": [
    "\n",
    "current_date = datetime.now().strftime('%Y-%m-%d')\n",
    "df['EndDate'] = pd.to_datetime(df['EndDate'], errors='coerce')\n",
    "df['EndDate'] = df['EndDate'].fillna(current_date)"
   ]
  },
  {
   "cell_type": "code",
   "execution_count": 33,
   "metadata": {},
   "outputs": [],
   "source": [
    "df['StartDate'] = pd.to_datetime(df['StartDate'], errors='coerce')"
   ]
  },
  {
   "cell_type": "markdown",
   "metadata": {},
   "source": [
    "#### Filter active records (optional, for training)"
   ]
  },
  {
   "cell_type": "code",
   "execution_count": 31,
   "metadata": {},
   "outputs": [],
   "source": [
    "\n",
    "df = df[df['EndDate'] >= current_date]"
   ]
  },
  {
   "cell_type": "code",
   "execution_count": 34,
   "metadata": {},
   "outputs": [
    {
     "name": "stdout",
     "output_type": "stream",
     "text": [
      "<class 'pandas.core.frame.DataFrame'>\n",
      "Index: 4597 entries, 46 to 5499\n",
      "Data columns (total 18 columns):\n",
      " #   Column           Non-Null Count  Dtype         \n",
      "---  ------           --------------  -----         \n",
      " 0   ProgramID        3294 non-null   float64       \n",
      " 1   ProgramCode      3294 non-null   object        \n",
      " 2   LocalityID       3294 non-null   object        \n",
      " 3   LocalityName     3294 non-null   object        \n",
      " 4   StartDate        3294 non-null   datetime64[ns]\n",
      " 5   EndDate          4597 non-null   datetime64[ns]\n",
      " 6   PracticeID       3294 non-null   float64       \n",
      " 7   PracticeCode     3294 non-null   object        \n",
      " 8   TinID            3294 non-null   float64       \n",
      " 9   TaxID            3294 non-null   object        \n",
      " 10  StateID          3294 non-null   float64       \n",
      " 11  StateCode        3294 non-null   object        \n",
      " 12  StateName        3294 non-null   object        \n",
      " 13  CountyID         3294 non-null   float64       \n",
      " 14  CountyName       3294 non-null   object        \n",
      " 15  ZipCode          3294 non-null   float64       \n",
      " 16  LocationName     3294 non-null   object        \n",
      " 17  LocationCluster  4597 non-null   int32         \n",
      "dtypes: datetime64[ns](2), float64(6), int32(1), object(9)\n",
      "memory usage: 664.4+ KB\n"
     ]
    }
   ],
   "source": [
    "df.info()"
   ]
  },
  {
   "cell_type": "code",
   "execution_count": 9,
   "metadata": {},
   "outputs": [
    {
     "data": {
      "text/plain": [
       "ProgramID       1303\n",
       "ProgramCode     1303\n",
       "LocalityID      1303\n",
       "LocalityName    1303\n",
       "StartDate       1303\n",
       "EndDate            0\n",
       "PracticeID      1303\n",
       "PracticeCode    1303\n",
       "TinID           1303\n",
       "TaxID           1303\n",
       "StateID         1303\n",
       "StateCode       1303\n",
       "StateName       1303\n",
       "CountyID        1303\n",
       "CountyName      1303\n",
       "ZipCode         1303\n",
       "LocationName    1303\n",
       "dtype: int64"
      ]
     },
     "execution_count": 9,
     "metadata": {},
     "output_type": "execute_result"
    }
   ],
   "source": [
    "df.isnull().sum()"
   ]
  },
  {
   "cell_type": "code",
   "execution_count": 10,
   "metadata": {},
   "outputs": [
    {
     "name": "stdout",
     "output_type": "stream",
     "text": [
      "      ProgramID ProgramCode LocalityID LocalityName StartDate EndDate  \\\n",
      "0           NaN         NaN        NaN          NaN       NaN     NaN   \n",
      "1           NaN         NaN        NaN          NaN       NaN     NaN   \n",
      "2           NaN         NaN        NaN          NaN       NaN     NaN   \n",
      "3           NaN         NaN        NaN          NaN       NaN     NaN   \n",
      "4           NaN         NaN        NaN          NaN       NaN     NaN   \n",
      "...         ...         ...        ...          ...       ...     ...   \n",
      "5495        NaN         NaN        NaN          NaN       NaN     NaN   \n",
      "5496        NaN         NaN        NaN          NaN       NaN     NaN   \n",
      "5497        NaN         NaN        NaN          NaN       NaN     NaN   \n",
      "5498        NaN         NaN        NaN          NaN       NaN     NaN   \n",
      "5499        NaN         NaN        NaN          NaN       NaN     NaN   \n",
      "\n",
      "      PracticeID PracticeCode  TinID TaxID  StateID StateCode StateName  \\\n",
      "0            NaN          NaN    NaN   NaN      NaN       NaN       NaN   \n",
      "1            NaN          NaN    NaN   NaN      NaN       NaN       NaN   \n",
      "2            NaN          NaN    NaN   NaN      NaN       NaN       NaN   \n",
      "3            NaN          NaN    NaN   NaN      NaN       NaN       NaN   \n",
      "4            NaN          NaN    NaN   NaN      NaN       NaN       NaN   \n",
      "...          ...          ...    ...   ...      ...       ...       ...   \n",
      "5495         NaN          NaN    NaN   NaN      NaN       NaN       NaN   \n",
      "5496         NaN          NaN    NaN   NaN      NaN       NaN       NaN   \n",
      "5497         NaN          NaN    NaN   NaN      NaN       NaN       NaN   \n",
      "5498         NaN          NaN    NaN   NaN      NaN       NaN       NaN   \n",
      "5499         NaN          NaN    NaN   NaN      NaN       NaN       NaN   \n",
      "\n",
      "      CountyID CountyName  ZipCode LocationName  \n",
      "0          NaN        NaN      NaN          NaN  \n",
      "1          NaN        NaN      NaN          NaN  \n",
      "2          NaN        NaN      NaN          NaN  \n",
      "3          NaN        NaN      NaN          NaN  \n",
      "4          NaN        NaN      NaN          NaN  \n",
      "...        ...        ...      ...          ...  \n",
      "5495       NaN        NaN      NaN          NaN  \n",
      "5496       NaN        NaN      NaN          NaN  \n",
      "5497       NaN        NaN      NaN          NaN  \n",
      "5498       NaN        NaN      NaN          NaN  \n",
      "5499       NaN        NaN      NaN          NaN  \n",
      "\n",
      "[5500 rows x 17 columns]\n"
     ]
    }
   ],
   "source": [
    "# Filter rows where ProgramID is null\n",
    "null_programid = df[df[['ProgramID', 'ProgramCode', 'LocalityID']].isnull()]\n",
    "\n",
    "# Display rows with null ProgramID\n",
    "print(null_programid)"
   ]
  },
  {
   "cell_type": "code",
   "execution_count": 11,
   "metadata": {},
   "outputs": [],
   "source": [
    "# Drop rows where all values are NaN\n",
    "df = df.dropna(how='all')\n",
    "\n",
    "# Drop rows where specific critical columns have NaN\n",
    "critical_columns = ['ProgramID', 'ProgramCode', 'LocalityID', 'LocalityName', 'StartDate', 'EndDate', 'PracticeID', 'PracticeCode', 'TinID', 'TaxID', 'StateID', 'StateCode', 'StateName', 'CountyID', 'CountyName', 'ZipCode', 'LocationName']\n",
    "df = df.dropna(subset=critical_columns)"
   ]
  },
  {
   "cell_type": "code",
   "execution_count": 12,
   "metadata": {},
   "outputs": [
    {
     "data": {
      "text/plain": [
       "ProgramID       0\n",
       "ProgramCode     0\n",
       "LocalityID      0\n",
       "LocalityName    0\n",
       "StartDate       0\n",
       "EndDate         0\n",
       "PracticeID      0\n",
       "PracticeCode    0\n",
       "TinID           0\n",
       "TaxID           0\n",
       "StateID         0\n",
       "StateCode       0\n",
       "StateName       0\n",
       "CountyID        0\n",
       "CountyName      0\n",
       "ZipCode         0\n",
       "LocationName    0\n",
       "dtype: int64"
      ]
     },
     "execution_count": 12,
     "metadata": {},
     "output_type": "execute_result"
    }
   ],
   "source": [
    "df.isnull().sum()"
   ]
  },
  {
   "cell_type": "code",
   "execution_count": 13,
   "metadata": {},
   "outputs": [],
   "source": [
    "# Normalize categorical fields (e.g., stripping extra spaces)\n",
    "df['StateCode'] = df['StateCode'].str.strip()\n",
    "df['CountyName'] = df['CountyName'].str.strip()\n",
    "df['LocationName'] = df['LocationName'].str.strip()"
   ]
  },
  {
   "cell_type": "code",
   "execution_count": 14,
   "metadata": {},
   "outputs": [
    {
     "data": {
      "text/html": [
       "<div>\n",
       "<style scoped>\n",
       "    .dataframe tbody tr th:only-of-type {\n",
       "        vertical-align: middle;\n",
       "    }\n",
       "\n",
       "    .dataframe tbody tr th {\n",
       "        vertical-align: top;\n",
       "    }\n",
       "\n",
       "    .dataframe thead th {\n",
       "        text-align: right;\n",
       "    }\n",
       "</style>\n",
       "<table border=\"1\" class=\"dataframe\">\n",
       "  <thead>\n",
       "    <tr style=\"text-align: right;\">\n",
       "      <th></th>\n",
       "      <th>ProgramID</th>\n",
       "      <th>ProgramCode</th>\n",
       "      <th>LocalityID</th>\n",
       "      <th>LocalityName</th>\n",
       "      <th>StartDate</th>\n",
       "      <th>EndDate</th>\n",
       "      <th>PracticeID</th>\n",
       "      <th>PracticeCode</th>\n",
       "      <th>TinID</th>\n",
       "      <th>TaxID</th>\n",
       "      <th>StateID</th>\n",
       "      <th>StateCode</th>\n",
       "      <th>StateName</th>\n",
       "      <th>CountyID</th>\n",
       "      <th>CountyName</th>\n",
       "      <th>ZipCode</th>\n",
       "      <th>LocationName</th>\n",
       "    </tr>\n",
       "  </thead>\n",
       "  <tbody>\n",
       "    <tr>\n",
       "      <th>0</th>\n",
       "      <td>38.0</td>\n",
       "      <td>ADV</td>\n",
       "      <td>1900-06-06</td>\n",
       "      <td>ADV</td>\n",
       "      <td>2000-01-01</td>\n",
       "      <td>2024-12-31</td>\n",
       "      <td>1.0</td>\n",
       "      <td>ADV</td>\n",
       "      <td>25.0</td>\n",
       "      <td>52-2055746</td>\n",
       "      <td>27.0</td>\n",
       "      <td>MD</td>\n",
       "      <td>Maryland</td>\n",
       "      <td>75.0</td>\n",
       "      <td>Anne Arundel County</td>\n",
       "      <td>21061.0</td>\n",
       "      <td>Baltimore Washington Medical Center (ADV_23)</td>\n",
       "    </tr>\n",
       "    <tr>\n",
       "      <th>1</th>\n",
       "      <td>38.0</td>\n",
       "      <td>ADV</td>\n",
       "      <td>1900-06-06</td>\n",
       "      <td>ADV</td>\n",
       "      <td>2000-01-01</td>\n",
       "      <td>2024-12-31</td>\n",
       "      <td>1.0</td>\n",
       "      <td>ADV</td>\n",
       "      <td>25.0</td>\n",
       "      <td>52-2055746</td>\n",
       "      <td>27.0</td>\n",
       "      <td>MD</td>\n",
       "      <td>Maryland</td>\n",
       "      <td>75.0</td>\n",
       "      <td>Anne Arundel County</td>\n",
       "      <td>21061.0</td>\n",
       "      <td>Crain Towers (ADV_27)</td>\n",
       "    </tr>\n",
       "    <tr>\n",
       "      <th>2</th>\n",
       "      <td>38.0</td>\n",
       "      <td>ADV</td>\n",
       "      <td>1900-06-06</td>\n",
       "      <td>ADV</td>\n",
       "      <td>2000-01-01</td>\n",
       "      <td>2024-12-31</td>\n",
       "      <td>1.0</td>\n",
       "      <td>ADV</td>\n",
       "      <td>25.0</td>\n",
       "      <td>52-2055746</td>\n",
       "      <td>27.0</td>\n",
       "      <td>MD</td>\n",
       "      <td>Maryland</td>\n",
       "      <td>75.0</td>\n",
       "      <td>Anne Arundel County</td>\n",
       "      <td>21061.0</td>\n",
       "      <td>PET Center @ BWMC (ADV_40)</td>\n",
       "    </tr>\n",
       "    <tr>\n",
       "      <th>3</th>\n",
       "      <td>38.0</td>\n",
       "      <td>ADV</td>\n",
       "      <td>1900-06-06</td>\n",
       "      <td>ADV</td>\n",
       "      <td>2000-01-01</td>\n",
       "      <td>2024-12-31</td>\n",
       "      <td>1.0</td>\n",
       "      <td>ADV</td>\n",
       "      <td>25.0</td>\n",
       "      <td>52-2055746</td>\n",
       "      <td>27.0</td>\n",
       "      <td>MD</td>\n",
       "      <td>Maryland</td>\n",
       "      <td>75.0</td>\n",
       "      <td>Anne Arundel County</td>\n",
       "      <td>21061.0</td>\n",
       "      <td>Advanced Radiology Glen Burnie (ADV_12)</td>\n",
       "    </tr>\n",
       "    <tr>\n",
       "      <th>4</th>\n",
       "      <td>38.0</td>\n",
       "      <td>ADV</td>\n",
       "      <td>1900-06-06</td>\n",
       "      <td>ADV</td>\n",
       "      <td>2000-01-01</td>\n",
       "      <td>2024-12-31</td>\n",
       "      <td>1.0</td>\n",
       "      <td>ADV</td>\n",
       "      <td>25.0</td>\n",
       "      <td>52-2055746</td>\n",
       "      <td>27.0</td>\n",
       "      <td>MD</td>\n",
       "      <td>Maryland</td>\n",
       "      <td>75.0</td>\n",
       "      <td>Anne Arundel County</td>\n",
       "      <td>21061.0</td>\n",
       "      <td>Aeillo Center at BWMC (ADV_22)</td>\n",
       "    </tr>\n",
       "  </tbody>\n",
       "</table>\n",
       "</div>"
      ],
      "text/plain": [
       "   ProgramID ProgramCode  LocalityID LocalityName   StartDate     EndDate  \\\n",
       "0       38.0         ADV  1900-06-06          ADV  2000-01-01  2024-12-31   \n",
       "1       38.0         ADV  1900-06-06          ADV  2000-01-01  2024-12-31   \n",
       "2       38.0         ADV  1900-06-06          ADV  2000-01-01  2024-12-31   \n",
       "3       38.0         ADV  1900-06-06          ADV  2000-01-01  2024-12-31   \n",
       "4       38.0         ADV  1900-06-06          ADV  2000-01-01  2024-12-31   \n",
       "\n",
       "   PracticeID PracticeCode  TinID       TaxID  StateID StateCode StateName  \\\n",
       "0         1.0          ADV   25.0  52-2055746     27.0        MD  Maryland   \n",
       "1         1.0          ADV   25.0  52-2055746     27.0        MD  Maryland   \n",
       "2         1.0          ADV   25.0  52-2055746     27.0        MD  Maryland   \n",
       "3         1.0          ADV   25.0  52-2055746     27.0        MD  Maryland   \n",
       "4         1.0          ADV   25.0  52-2055746     27.0        MD  Maryland   \n",
       "\n",
       "   CountyID           CountyName  ZipCode  \\\n",
       "0      75.0  Anne Arundel County  21061.0   \n",
       "1      75.0  Anne Arundel County  21061.0   \n",
       "2      75.0  Anne Arundel County  21061.0   \n",
       "3      75.0  Anne Arundel County  21061.0   \n",
       "4      75.0  Anne Arundel County  21061.0   \n",
       "\n",
       "                                   LocationName  \n",
       "0  Baltimore Washington Medical Center (ADV_23)  \n",
       "1                         Crain Towers (ADV_27)  \n",
       "2                    PET Center @ BWMC (ADV_40)  \n",
       "3       Advanced Radiology Glen Burnie (ADV_12)  \n",
       "4                Aeillo Center at BWMC (ADV_22)  "
      ]
     },
     "execution_count": 14,
     "metadata": {},
     "output_type": "execute_result"
    }
   ],
   "source": [
    "df.head()"
   ]
  },
  {
   "cell_type": "code",
   "execution_count": 15,
   "metadata": {},
   "outputs": [
    {
     "data": {
      "text/plain": [
       "(4197, 17)"
      ]
     },
     "execution_count": 15,
     "metadata": {},
     "output_type": "execute_result"
    }
   ],
   "source": [
    "df.shape"
   ]
  },
  {
   "cell_type": "markdown",
   "metadata": {},
   "source": [
    "#### Feature Engineering for Location Clustering and Demographic Patterns\n",
    "\n",
    "Feature engineering is essential to enhance the dataset and improve the accuracy of AI predictions for insurance practices. Here's how to derive additional insights, focusing on location clustering and demographic patterns:"
   ]
  },
  {
   "cell_type": "code",
   "execution_count": 16,
   "metadata": {},
   "outputs": [],
   "source": [
    "from sklearn.preprocessing import StandardScaler, LabelEncoder\n",
    "from sklearn.cluster import KMeans"
   ]
  },
  {
   "cell_type": "code",
   "execution_count": 94,
   "metadata": {},
   "outputs": [],
   "source": [
    "from sklearn.preprocessing import LabelEncoder\n",
    "\n",
    "# Example categorical column: 'StateName'\n",
    "label_encoder = LabelEncoder()\n",
    "\n",
    "# Apply LabelEncoder only to categorical columns\n",
    "df['StateName'] = label_encoder.fit_transform(df['StateName'])\n",
    "\n",
    "# For other categorical columns, apply the same\n",
    "df['CountyName'] = label_encoder.fit_transform(df['CountyName'])"
   ]
  },
  {
   "cell_type": "markdown",
   "metadata": {},
   "source": [
    "#### define cluster"
   ]
  },
  {
   "cell_type": "code",
   "execution_count": 95,
   "metadata": {},
   "outputs": [
    {
     "name": "stdout",
     "output_type": "stream",
     "text": [
      "  StateName StateCode  LocationCluster\n",
      "0  Maryland        MD                0\n",
      "1  Maryland        MD                0\n",
      "2  Maryland        MD                0\n",
      "3  Maryland        MD                0\n",
      "4  Maryland        MD                0\n",
      "(5500, 4)\n"
     ]
    }
   ],
   "source": [
    "# Define the function\n",
    "def add_location_clusters(df):\n",
    "    # Select geographic features\n",
    "    location_features = df[['StateName', 'StateCode', 'CountyID', 'ZipCode']].copy()\n",
    "\n",
    "    # Handle missing values for numeric and categorical data separately\n",
    "    location_features['CountyID'] = location_features['CountyID'].fillna(0)  # Replace missing numeric values with 0\n",
    "    location_features['ZipCode'] = location_features['ZipCode'].fillna(0)  # Replace missing numeric values with 0\n",
    "    location_features['StateName'] = location_features['StateName'].fillna('Unknown')  # Replace missing strings\n",
    "    location_features['StateCode'] = location_features['StateCode'].fillna('Unknown')  # Replace missing strings\n",
    "\n",
    "    # Encode categorical data\n",
    "    label_encoder = LabelEncoder()\n",
    "    location_features['StateName'] = label_encoder.fit_transform(location_features['StateName'])\n",
    "    location_features['StateCode'] = label_encoder.fit_transform(location_features['StateCode'])\n",
    "\n",
    "\n",
    "\n",
    "    # Standardize the numeric data\n",
    "    scaler = StandardScaler()\n",
    "    location_features_scaled = scaler.fit_transform(location_features)\n",
    "\n",
    "    # Apply K-Means clustering\n",
    "    kmeans = KMeans(n_clusters=5, random_state=42)  # Adjust the number of clusters as needed\n",
    "    df['LocationCluster'] = kmeans.fit_predict(location_features_scaled)\n",
    "\n",
    "    return df, location_features_scaled\n",
    "\n",
    "# Load your data\n",
    "df = pd.read_csv('D:\\\\client\\\\programmelocality\\\\Program_Locality.csv', encoding='ISO-8859-1')\n",
    "\n",
    "# Apply the function\n",
    "df, location_features_scaled = add_location_clusters(df)\n",
    "\n",
    "# Verify the output\n",
    "print(df[['StateName', 'StateCode', 'LocationCluster']].head())\n",
    "print(location_features_scaled.shape)\n"
   ]
  },
  {
   "cell_type": "code",
   "execution_count": 96,
   "metadata": {},
   "outputs": [
    {
     "name": "stdout",
     "output_type": "stream",
     "text": [
      "<class 'pandas.core.frame.DataFrame'>\n"
     ]
    }
   ],
   "source": [
    "print(type(df))"
   ]
  },
  {
   "cell_type": "code",
   "execution_count": 97,
   "metadata": {},
   "outputs": [],
   "source": [
    "import matplotlib.pyplot as plt"
   ]
  },
  {
   "cell_type": "code",
   "execution_count": 98,
   "metadata": {},
   "outputs": [
    {
     "data": {
      "image/png": "[encoded data removed]",
      "text/plain": [
       "<Figure size 800x500 with 2 Axes>"
      ]
     },
     "metadata": {},
     "output_type": "display_data"
    }
   ],
   "source": [
    "def visualize_clusters(df):\n",
    "    plt.figure(figsize=(8, 5))\n",
    "    scatter = plt.scatter(\n",
    "        df['CountyID'], \n",
    "        df['ZipCode'], \n",
    "        c=df['LocationCluster'], \n",
    "        cmap='viridis', \n",
    "        alpha=0.8\n",
    "    )\n",
    "    plt.colorbar(scatter, label='Cluster')\n",
    "    plt.xlabel('CountyID')\n",
    "    plt.ylabel('ZipCode')\n",
    "    plt.title('Location Clusters')\n",
    "    plt.grid(True)\n",
    "    plt.show()\n",
    "\n",
    "# Example Usage\n",
    "visualize_clusters(df)\n",
    "\n"
   ]
  },
  {
   "cell_type": "markdown",
   "metadata": {},
   "source": [
    "#### Key Observations:\n",
    "1.\tCluster Separation:\n",
    "o\tPoints grouped by similar colors indicate locations that share similar geographic features and are grouped into the same cluster.\n",
    "o\tOverlap or proximity between clusters might suggest shared characteristics or data points that are not well-separated by the current feature set.\n",
    "\n",
    "2.\tZIP Code Patterns:\n",
    "o\tHigher ZIP codes seem to cluster distinctly (e.g., the yellow cluster at the top).\n",
    "o\tLower ZIP codes (e.g., dark blue points) are grouped closer together.\n",
    "\n",
    "3.\tCountyID Influence:\n",
    "o\tClusters are spread across the CountyID range, suggesting county-level data impacts the cluster formation.\n",
    "\n",
    "\n",
    "Possible Insights:\n",
    "•\tThis clustering can reveal geographic groupings, such as regions or states that share similar characteristics.\n",
    "•\tIf these clusters correspond to business logic (e.g., insurance regions or demographics), they can help refine predictions or operational strategies.\n"
   ]
  },
  {
   "cell_type": "code",
   "execution_count": 99,
   "metadata": {},
   "outputs": [
    {
     "data": {
      "image/png": "[encoded data removed]",
      "text/plain": [
       "<Figure size 800x500 with 1 Axes>"
      ]
     },
     "metadata": {},
     "output_type": "display_data"
    }
   ],
   "source": [
    "def cluster_distribution(df):\n",
    "    cluster_counts = df['LocationCluster'].value_counts()\n",
    "    cluster_counts.plot(kind='bar', color='skyblue', figsize=(8, 5))\n",
    "    plt.xlabel('Cluster')\n",
    "    plt.ylabel('Number of Locations')\n",
    "    plt.title('Cluster Distribution')\n",
    "    plt.grid(axis='y')\n",
    "    plt.show()\n",
    "\n",
    "# Example Usage\n",
    "cluster_distribution(df)"
   ]
  },
  {
   "cell_type": "code",
   "execution_count": 22,
   "metadata": {},
   "outputs": [
    {
     "name": "stdout",
     "output_type": "stream",
     "text": [
      "Silhouette Score: 0.8249173888170266\n"
     ]
    }
   ],
   "source": [
    "from sklearn.metrics import silhouette_score\n",
    "\n",
    "silhouette_avg = silhouette_score(location_features_scaled, df['LocationCluster'])\n",
    "print(f\"Silhouette Score: {silhouette_avg}\")"
   ]
  },
  {
   "cell_type": "markdown",
   "metadata": {},
   "source": [
    "####Silhouette Score Interpretation:\n",
    "Score Range:\n",
    "\n",
    "-1: Poor clustering; data points are likely assigned to the wrong clusters.\n",
    "0: Overlapping clusters; data points are on the border between clusters.\n",
    "1: Perfect clustering; data points are well within their respective clusters and far from others.\n",
    "\n",
    "Your Score:\n",
    "\n",
    "A score of 0.8249 is very high, indicating:\n",
    "Clusters are well-separated from each other.\n",
    "Data points are closely grouped within their respective clusters.\n",
    "There’s minimal overlap or ambiguity between clusters."
   ]
  },
  {
   "cell_type": "code",
   "execution_count": 100,
   "metadata": {},
   "outputs": [
    {
     "data": {
      "image/png": "[encoded data removed]",
      "text/plain": [
       "<Figure size 640x480 with 2 Axes>"
      ]
     },
     "metadata": {},
     "output_type": "display_data"
    }
   ],
   "source": [
    "import matplotlib.pyplot as plt\n",
    "from sklearn.decomposition import PCA\n",
    "\n",
    "pca = PCA(n_components=2)\n",
    "reduced_data = pca.fit_transform(location_features_scaled)\n",
    "\n",
    "plt.scatter(reduced_data[:, 0], reduced_data[:, 1], c=df['LocationCluster'], cmap='viridis')\n",
    "plt.title('Cluster Visualization')\n",
    "plt.xlabel('PCA Component 1')\n",
    "plt.ylabel('PCA Component 2')\n",
    "plt.colorbar(label='Cluster')\n",
    "plt.show()"
   ]
  },
  {
   "cell_type": "code",
   "execution_count": 101,
   "metadata": {},
   "outputs": [
    {
     "name": "stdout",
     "output_type": "stream",
     "text": [
      "1.6.1\n"
     ]
    }
   ],
   "source": [
    "import sklearn\n",
    "print(sklearn.__version__)"
   ]
  },
  {
   "cell_type": "code",
   "execution_count": 102,
   "metadata": {},
   "outputs": [
    {
     "name": "stdout",
     "output_type": "stream",
     "text": [
      "K-Means Inertia: 869.3801337509524\n"
     ]
    }
   ],
   "source": [
    "# Apply K-Means clustering\n",
    "kmeans = KMeans(n_clusters=5, random_state=42)  # Adjust the number of clusters as needed\n",
    "df['LocationCluster'] = kmeans.fit_predict(location_features_scaled)\n",
    "\n",
    "# Access inertia to evaluate clustering performance\n",
    "print(\"K-Means Inertia:\", kmeans.inertia_)"
   ]
  },
  {
   "cell_type": "code",
   "execution_count": 103,
   "metadata": {},
   "outputs": [
    {
     "data": {
      "image/png": "[encoded data removed]",
      "text/plain": [
       "<Figure size 640x480 with 1 Axes>"
      ]
     },
     "metadata": {},
     "output_type": "display_data"
    }
   ],
   "source": [
    "\n",
    "inertia_values = []\n",
    "for k in range(1, 10):\n",
    "    kmeans = KMeans(n_clusters=k, random_state=42)\n",
    "    kmeans.fit(location_features_scaled)\n",
    "    inertia_values.append(kmeans.inertia_)\n",
    "\n",
    "plt.plot(range(1, 10), inertia_values, marker='o')\n",
    "plt.xlabel('Number of Clusters (k)')\n",
    "plt.ylabel('Inertia')\n",
    "plt.title('Elbow Method for Optimal k')\n",
    "plt.show()"
   ]
  },
  {
   "cell_type": "markdown",
   "metadata": {},
   "source": [
    "### Inertia Value (869.38) at k=5\n",
    "At k=5, the inertia value of 869.38 aligns well with the elbow method.\n",
    "This suggests that the clustering is effective and further increasing the number of clusters may not add significant value.\n",
    "If this inertia is combined with a high silhouette score (as previously calculated, 0.82), it confirms that the clusters are both compact and well-separated."
   ]
  },
  {
   "cell_type": "code",
   "execution_count": 104,
   "metadata": {},
   "outputs": [
    {
     "data": {
      "text/html": [
       "<div>\n",
       "<style scoped>\n",
       "    .dataframe tbody tr th:only-of-type {\n",
       "        vertical-align: middle;\n",
       "    }\n",
       "\n",
       "    .dataframe tbody tr th {\n",
       "        vertical-align: top;\n",
       "    }\n",
       "\n",
       "    .dataframe thead th {\n",
       "        text-align: right;\n",
       "    }\n",
       "</style>\n",
       "<table border=\"1\" class=\"dataframe\">\n",
       "  <thead>\n",
       "    <tr style=\"text-align: right;\">\n",
       "      <th></th>\n",
       "      <th>ProgramID</th>\n",
       "      <th>ProgramCode</th>\n",
       "      <th>LocalityID</th>\n",
       "      <th>LocalityName</th>\n",
       "      <th>StartDate</th>\n",
       "      <th>EndDate</th>\n",
       "      <th>PracticeID</th>\n",
       "      <th>PracticeCode</th>\n",
       "      <th>TinID</th>\n",
       "      <th>TaxID</th>\n",
       "      <th>StateID</th>\n",
       "      <th>StateCode</th>\n",
       "      <th>StateName</th>\n",
       "      <th>CountyID</th>\n",
       "      <th>CountyName</th>\n",
       "      <th>ZipCode</th>\n",
       "      <th>LocationName</th>\n",
       "      <th>LocationCluster</th>\n",
       "    </tr>\n",
       "  </thead>\n",
       "  <tbody>\n",
       "    <tr>\n",
       "      <th>0</th>\n",
       "      <td>38.0</td>\n",
       "      <td>ADV</td>\n",
       "      <td>1900-06-06</td>\n",
       "      <td>ADV</td>\n",
       "      <td>2000-01-01</td>\n",
       "      <td>2024-12-31</td>\n",
       "      <td>1.0</td>\n",
       "      <td>ADV</td>\n",
       "      <td>25.0</td>\n",
       "      <td>52-2055746</td>\n",
       "      <td>27.0</td>\n",
       "      <td>MD</td>\n",
       "      <td>Maryland</td>\n",
       "      <td>75.0</td>\n",
       "      <td>Anne Arundel County</td>\n",
       "      <td>21061.0</td>\n",
       "      <td>Baltimore Washington Medical Center (ADV_23)</td>\n",
       "      <td>0</td>\n",
       "    </tr>\n",
       "    <tr>\n",
       "      <th>1</th>\n",
       "      <td>38.0</td>\n",
       "      <td>ADV</td>\n",
       "      <td>1900-06-06</td>\n",
       "      <td>ADV</td>\n",
       "      <td>2000-01-01</td>\n",
       "      <td>2024-12-31</td>\n",
       "      <td>1.0</td>\n",
       "      <td>ADV</td>\n",
       "      <td>25.0</td>\n",
       "      <td>52-2055746</td>\n",
       "      <td>27.0</td>\n",
       "      <td>MD</td>\n",
       "      <td>Maryland</td>\n",
       "      <td>75.0</td>\n",
       "      <td>Anne Arundel County</td>\n",
       "      <td>21061.0</td>\n",
       "      <td>Crain Towers (ADV_27)</td>\n",
       "      <td>0</td>\n",
       "    </tr>\n",
       "    <tr>\n",
       "      <th>2</th>\n",
       "      <td>38.0</td>\n",
       "      <td>ADV</td>\n",
       "      <td>1900-06-06</td>\n",
       "      <td>ADV</td>\n",
       "      <td>2000-01-01</td>\n",
       "      <td>2024-12-31</td>\n",
       "      <td>1.0</td>\n",
       "      <td>ADV</td>\n",
       "      <td>25.0</td>\n",
       "      <td>52-2055746</td>\n",
       "      <td>27.0</td>\n",
       "      <td>MD</td>\n",
       "      <td>Maryland</td>\n",
       "      <td>75.0</td>\n",
       "      <td>Anne Arundel County</td>\n",
       "      <td>21061.0</td>\n",
       "      <td>PET Center @ BWMC (ADV_40)</td>\n",
       "      <td>0</td>\n",
       "    </tr>\n",
       "    <tr>\n",
       "      <th>3</th>\n",
       "      <td>38.0</td>\n",
       "      <td>ADV</td>\n",
       "      <td>1900-06-06</td>\n",
       "      <td>ADV</td>\n",
       "      <td>2000-01-01</td>\n",
       "      <td>2024-12-31</td>\n",
       "      <td>1.0</td>\n",
       "      <td>ADV</td>\n",
       "      <td>25.0</td>\n",
       "      <td>52-2055746</td>\n",
       "      <td>27.0</td>\n",
       "      <td>MD</td>\n",
       "      <td>Maryland</td>\n",
       "      <td>75.0</td>\n",
       "      <td>Anne Arundel County</td>\n",
       "      <td>21061.0</td>\n",
       "      <td>Advanced Radiology Glen Burnie (ADV_12)</td>\n",
       "      <td>0</td>\n",
       "    </tr>\n",
       "    <tr>\n",
       "      <th>4</th>\n",
       "      <td>38.0</td>\n",
       "      <td>ADV</td>\n",
       "      <td>1900-06-06</td>\n",
       "      <td>ADV</td>\n",
       "      <td>2000-01-01</td>\n",
       "      <td>2024-12-31</td>\n",
       "      <td>1.0</td>\n",
       "      <td>ADV</td>\n",
       "      <td>25.0</td>\n",
       "      <td>52-2055746</td>\n",
       "      <td>27.0</td>\n",
       "      <td>MD</td>\n",
       "      <td>Maryland</td>\n",
       "      <td>75.0</td>\n",
       "      <td>Anne Arundel County</td>\n",
       "      <td>21061.0</td>\n",
       "      <td>Aeillo Center at BWMC (ADV_22)</td>\n",
       "      <td>0</td>\n",
       "    </tr>\n",
       "  </tbody>\n",
       "</table>\n",
       "</div>"
      ],
      "text/plain": [
       "   ProgramID ProgramCode  LocalityID LocalityName   StartDate     EndDate  \\\n",
       "0       38.0         ADV  1900-06-06          ADV  2000-01-01  2024-12-31   \n",
       "1       38.0         ADV  1900-06-06          ADV  2000-01-01  2024-12-31   \n",
       "2       38.0         ADV  1900-06-06          ADV  2000-01-01  2024-12-31   \n",
       "3       38.0         ADV  1900-06-06          ADV  2000-01-01  2024-12-31   \n",
       "4       38.0         ADV  1900-06-06          ADV  2000-01-01  2024-12-31   \n",
       "\n",
       "   PracticeID PracticeCode  TinID       TaxID  StateID StateCode StateName  \\\n",
       "0         1.0          ADV   25.0  52-2055746     27.0        MD  Maryland   \n",
       "1         1.0          ADV   25.0  52-2055746     27.0        MD  Maryland   \n",
       "2         1.0          ADV   25.0  52-2055746     27.0        MD  Maryland   \n",
       "3         1.0          ADV   25.0  52-2055746     27.0        MD  Maryland   \n",
       "4         1.0          ADV   25.0  52-2055746     27.0        MD  Maryland   \n",
       "\n",
       "   CountyID           CountyName  ZipCode  \\\n",
       "0      75.0  Anne Arundel County  21061.0   \n",
       "1      75.0  Anne Arundel County  21061.0   \n",
       "2      75.0  Anne Arundel County  21061.0   \n",
       "3      75.0  Anne Arundel County  21061.0   \n",
       "4      75.0  Anne Arundel County  21061.0   \n",
       "\n",
       "                                   LocationName  LocationCluster  \n",
       "0  Baltimore Washington Medical Center (ADV_23)                0  \n",
       "1                         Crain Towers (ADV_27)                0  \n",
       "2                    PET Center @ BWMC (ADV_40)                0  \n",
       "3       Advanced Radiology Glen Burnie (ADV_12)                0  \n",
       "4                Aeillo Center at BWMC (ADV_22)                0  "
      ]
     },
     "execution_count": 104,
     "metadata": {},
     "output_type": "execute_result"
    }
   ],
   "source": [
    "df.head()"
   ]
  },
  {
   "cell_type": "markdown",
   "metadata": {},
   "source": [
    "#### Handle missing values"
   ]
  },
  {
   "cell_type": "code",
   "execution_count": 105,
   "metadata": {},
   "outputs": [
    {
     "data": {
      "text/plain": [
       "array([0, 4, 1, 3, 2], dtype=int32)"
      ]
     },
     "execution_count": 105,
     "metadata": {},
     "output_type": "execute_result"
    }
   ],
   "source": [
    "df['LocationCluster'].unique()"
   ]
  },
  {
   "cell_type": "code",
   "execution_count": 106,
   "metadata": {},
   "outputs": [
    {
     "name": "stdout",
     "output_type": "stream",
     "text": [
      "Requirement already satisfied: xgboost in c:\\users\\santosh.dhalwalkar\\appdata\\local\\programs\\python\\python313\\lib\\site-packages (2.1.3)\n",
      "Requirement already satisfied: numpy in c:\\users\\santosh.dhalwalkar\\appdata\\local\\programs\\python\\python313\\lib\\site-packages (from xgboost) (2.2.1)\n",
      "Requirement already satisfied: scipy in c:\\users\\santosh.dhalwalkar\\appdata\\local\\programs\\python\\python313\\lib\\site-packages (from xgboost) (1.15.0)\n"
     ]
    }
   ],
   "source": [
    "!pip install xgboost"
   ]
  },
  {
   "cell_type": "code",
   "execution_count": 107,
   "metadata": {},
   "outputs": [],
   "source": [
    "import xgboost as xgb"
   ]
  },
  {
   "cell_type": "code",
   "execution_count": 108,
   "metadata": {},
   "outputs": [],
   "source": [
    "from sklearn.model_selection import train_test_split\n",
    "from sklearn.ensemble import RandomForestClassifier\n",
    "from xgboost import XGBClassifier\n",
    "from sklearn.metrics import accuracy_score, precision_score, recall_score, f1_score\n",
    "from sklearn.preprocessing import LabelEncoder, MinMaxScaler\n",
    "from sklearn.preprocessing import StandardScaler\n",
    "from sklearn.cluster import KMeans\n"
   ]
  },
  {
   "cell_type": "markdown",
   "metadata": {},
   "source": [
    "###  Data Preparation\n",
    "#### Encode target variables"
   ]
  },
  {
   "cell_type": "code",
   "execution_count": 109,
   "metadata": {},
   "outputs": [],
   "source": [
    "from sklearn.impute import SimpleImputer"
   ]
  },
  {
   "cell_type": "code",
   "execution_count": 110,
   "metadata": {},
   "outputs": [],
   "source": [
    "# Handle Missing Values\n",
    "def handle_missing_values(df):\n",
    "    # Numeric columns: Fill NaN with the mean\n",
    "    num_imputer = SimpleImputer(strategy='mean')\n",
    "    numeric_columns = df.select_dtypes(include=['float64', 'int64']).columns\n",
    "    df[numeric_columns] = num_imputer.fit_transform(df[numeric_columns])\n",
    "\n",
    "    # Categorical columns: Fill NaN with \"Unknown\"\n",
    "    cat_imputer = SimpleImputer(strategy='most_frequent')\n",
    "    categorical_columns = df.select_dtypes(include=['object']).columns\n",
    "    df[categorical_columns] = cat_imputer.fit_transform(df[categorical_columns])\n",
    "\n",
    "    return df\n",
    "\n",
    "# Apply missing value handling\n",
    "df = handle_missing_values(df)"
   ]
  },
  {
   "cell_type": "code",
   "execution_count": 111,
   "metadata": {},
   "outputs": [],
   "source": [
    "label_enc_program = LabelEncoder()\n",
    "label_enc_locality = LabelEncoder()\n",
    "df['ProgramCode'] = label_enc_program.fit_transform(df['ProgramCode'])\n",
    "df['LocalityID'] = label_enc_locality.fit_transform(df['LocalityID'])\n",
    "\n"
   ]
  },
  {
   "cell_type": "code",
   "execution_count": 114,
   "metadata": {},
   "outputs": [],
   "source": [
    "# Encode categorical features\n",
    "def encode_categorical_features(df, categorical_columns):\n",
    "    label_encoders = {}\n",
    "    for column in categorical_columns:\n",
    "        le = LabelEncoder()\n",
    "        df[column] = le.fit_transform(df[column])\n",
    "        label_encoders[column] = le\n",
    "    return df, label_encoders\n",
    "\n",
    "\n",
    "# Scale numeric features using MinMaxScaler\n",
    "def scale_numeric_features(X):\n",
    "    scaler = MinMaxScaler()\n",
    "    X_scaled = scaler.fit_transform(X)\n",
    "    return X_scaled\n",
    "\n",
    "# Define categorical columns\n",
    "categorical_columns = ['StateName', 'StateCode']\n",
    "\n",
    "# Encode the features\n",
    "df_encoded, encoders = encode_categorical_features(df, categorical_columns)"
   ]
  },
  {
   "cell_type": "markdown",
   "metadata": {},
   "source": [
    "#### Features and Targets"
   ]
  },
  {
   "cell_type": "code",
   "execution_count": 115,
   "metadata": {},
   "outputs": [],
   "source": [
    "\n",
    "features = ['StateName', 'StateCode', 'CountyID', 'ZipCode', 'LocationCluster']\n",
    "X = df[features]\n",
    "y_program = df_encoded['ProgramCode']\n",
    "y_locality = df_encoded['LocalityID']"
   ]
  },
  {
   "cell_type": "markdown",
   "metadata": {},
   "source": [
    "#### Train-Test Split"
   ]
  },
  {
   "cell_type": "code",
   "execution_count": 116,
   "metadata": {},
   "outputs": [],
   "source": [
    "\n",
    "X_train, X_test, y_train_program, y_test_program = train_test_split(X, y_program, test_size=0.2, random_state=42)\n",
    "X_train_loc, X_test_loc, y_train_loc, y_test_loc = train_test_split(X, y_locality, test_size=0.2, random_state=42)"
   ]
  },
  {
   "cell_type": "markdown",
   "metadata": {},
   "source": [
    "## Model Development\n",
    "#### Random Forest for ProgramCode"
   ]
  },
  {
   "cell_type": "code",
   "execution_count": 117,
   "metadata": {},
   "outputs": [],
   "source": [
    "rf_program = RandomForestClassifier(random_state=42)\n",
    "rf_program.fit(X_train, y_train_program)\n",
    "y_pred_program_rf = rf_program.predict(X_test)"
   ]
  },
  {
   "cell_type": "markdown",
   "metadata": {},
   "source": []
  },
  {
   "cell_type": "code",
   "execution_count": 124,
   "metadata": {},
   "outputs": [],
   "source": [
    "# Combine y_train_loc and y_test_loc to fit LabelEncoder on all possible labels\n",
    "all_labels = np.concatenate([y_train_loc, y_test_loc])\n",
    "label_encoder = LabelEncoder()\n",
    "label_encoder.fit(all_labels)  # Fit on the combined data\n",
    "\n",
    "# Now, transform y_train_loc and y_test_loc separately\n",
    "y_train_loc = label_encoder.transform(y_train_loc)\n",
    "y_test_loc = label_encoder.transform(y_test_loc)"
   ]
  },
  {
   "cell_type": "code",
   "execution_count": 125,
   "metadata": {},
   "outputs": [
    {
     "name": "stdout",
     "output_type": "stream",
     "text": [
      "[ 6 23  6 54 17 28 29  6  6 47]\n",
      "[ 0  1  2  3  4  5  6  7  8  9 10 11 12 13 14 15 16 17 18 19 20 21 22 23\n",
      " 24 25 26 27 28 29 30 31 32 33 34 35 36 37 38 39 40 41 42 43 44 45 46 47\n",
      " 48 49 50 51 52 53 54 55 56 57 58 59 60 61 62 63 64 65]\n"
     ]
    }
   ],
   "source": [
    "print(y_train_loc[:10])  # First 10 encoded values\n",
    "print(label_encoder.classes_)  # Original class labels"
   ]
  },
  {
   "cell_type": "markdown",
   "metadata": {},
   "source": [
    "#### Gradient Boosted Trees for LocalityID"
   ]
  },
  {
   "cell_type": "code",
   "execution_count": 126,
   "metadata": {},
   "outputs": [],
   "source": [
    "xgb_locality = XGBClassifier(random_state=42, use_label_encoder=False, eval_metric='logloss')\n",
    "xgb_locality.fit(X_train_loc, y_train_loc)\n",
    "y_pred_locality_xgb = xgb_locality.predict(X_test_loc)"
   ]
  },
  {
   "cell_type": "code",
   "execution_count": 128,
   "metadata": {},
   "outputs": [
    {
     "name": "stdout",
     "output_type": "stream",
     "text": [
      "Random Forest (ProgramCode) Performance:\n",
      "Accuracy: 0.3618\n",
      "Precision: 0.3371\n",
      "Recall: 0.3618\n",
      "F1-score: 0.3288\n",
      "\n",
      "Gradient Boosted Trees (LocalityID) Performance:\n",
      "Accuracy: 0.2891\n",
      "Precision: 0.2698\n",
      "Recall: 0.2891\n",
      "F1-score: 0.2717\n",
      "\n"
     ]
    }
   ],
   "source": [
    "\n",
    "# Step 4: Evaluation\n",
    "def evaluate_model(y_true, y_pred, model_name):\n",
    "    accuracy = accuracy_score(y_true, y_pred)\n",
    "    precision = precision_score(y_true, y_pred, average='weighted')\n",
    "    recall = recall_score(y_true, y_pred, average='weighted')\n",
    "    f1 = f1_score(y_true, y_pred, average='weighted')\n",
    "    print(f\"{model_name} Performance:\")\n",
    "    print(f\"Accuracy: {accuracy:.4f}\")\n",
    "    print(f\"Precision: {precision:.4f}\")\n",
    "    print(f\"Recall: {recall:.4f}\")\n",
    "    print(f\"F1-score: {f1:.4f}\\n\")\n",
    "\n",
    "# Evaluate ProgramCode Model\n",
    "evaluate_model(y_test_program, y_pred_program_rf, \"Random Forest (ProgramCode)\")\n",
    "\n",
    "# Evaluate LocalityID Model\n",
    "evaluate_model(y_test_loc, y_pred_locality_xgb, \"Gradient Boosted Trees (LocalityID)\")"
   ]
  },
  {
   "cell_type": "code",
   "execution_count": 129,
   "metadata": {},
   "outputs": [
    {
     "data": {
      "text/plain": [
       "['scaler.pkl']"
      ]
     },
     "execution_count": 129,
     "metadata": {},
     "output_type": "execute_result"
    }
   ],
   "source": [
    "# Save models for reuse\n",
    "import joblib\n",
    "# Save the model and preprocessing objects\n",
    "joblib.dump(xgb_locality, 'xgb_locality_model.pkl')\n",
    "joblib.dump(encoders, 'encoders.pkl')\n",
    "joblib.dump(MinMaxScaler().fit(X), 'scaler.pkl')  # Save the scaler"
   ]
  }
 ],
 "metadata": {
  "kernelspec": {
   "display_name": "Python 3",
   "language": "python",
   "name": "python3"
  },
  "language_info": {
   "codemirror_mode": {
    "name": "ipython",
    "version": 3
   },
   "file_extension": ".py",
   "mimetype": "text/x-python",
   "name": "python",
   "nbconvert_exporter": "python",
   "pygments_lexer": "ipython3",
   "version": "3.13.1"
  }
 },
 "nbformat": 4,
 "nbformat_minor": 2
}
